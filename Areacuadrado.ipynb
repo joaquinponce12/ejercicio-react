{
  "nbformat": 4,
  "nbformat_minor": 0,
  "metadata": {
    "colab": {
      "provenance": [],
      "authorship_tag": "ABX9TyPm/RIntRgGXJvxtrLm6Grs",
      "include_colab_link": true
    },
    "kernelspec": {
      "name": "python3",
      "display_name": "Python 3"
    },
    "language_info": {
      "name": "python"
    }
  },
  "cells": [
    {
      "cell_type": "markdown",
      "metadata": {
        "id": "view-in-github",
        "colab_type": "text"
      },
      "source": [
        "<a href=\"https://colab.research.google.com/github/joaquinponce12/ejercicio-react/blob/master/Areacuadrado.ipynb\" target=\"_parent\"><img src=\"https://colab.research.google.com/assets/colab-badge.svg\" alt=\"Open In Colab\"/></a>"
      ]
    },
    {
      "cell_type": "code",
      "execution_count": 1,
      "metadata": {
        "id": "3BYFbWR9N2AX"
      },
      "outputs": [],
      "source": [
        "import tensorflow as tf\n",
        "import numpy as np"
      ]
    },
    {
      "cell_type": "code",
      "source": [
        "#Definir entrada y salida\n",
        "lado=np.array([1,2,3,4], dtype=float)\n",
        "area=np.array([1,4,9,16], dtype=float)"
      ],
      "metadata": {
        "id": "TenUE7FHPbb9"
      },
      "execution_count": 14,
      "outputs": []
    },
    {
      "cell_type": "code",
      "source": [
        "#Crear modelo Neuronal\n",
        "capa=tf.keras.layers.Dense(units=1,input_shape=[1])\n",
        "modelo=tf.keras.Sequential([capa])"
      ],
      "metadata": {
        "id": "p1Z6o5SGQpVD"
      },
      "execution_count": 15,
      "outputs": []
    },
    {
      "cell_type": "code",
      "source": [
        "#Compilar \n",
        "modelo.compile(\n",
        "    optimizer=tf.keras.optimizers.Adam(0.1),\n",
        "    loss='mean_squared_error'\n",
        "    )"
      ],
      "metadata": {
        "id": "XxPn1cI6TdkF"
      },
      "execution_count": 16,
      "outputs": []
    },
    {
      "cell_type": "code",
      "source": [
        "#Entrenamiento\n",
        "print(\"Comenzado el entrenamiento\")\n",
        "historial=modelo.fit(lado, area, epochs=100,verbose=False)\n",
        "print(\"Termino el entrenamiento\")"
      ],
      "metadata": {
        "colab": {
          "base_uri": "https://localhost:8080/"
        },
        "id": "i6usCF5qTs4R",
        "outputId": "3b69e588-c1d0-4766-8da8-dc88c93081cf"
      },
      "execution_count": 17,
      "outputs": [
        {
          "output_type": "stream",
          "name": "stdout",
          "text": [
            "Comenzado el entrenamiento\n",
            "Termino el entrenamiento\n"
          ]
        }
      ]
    },
    {
      "cell_type": "code",
      "source": [
        "import matplotlib.pyplot as plt\n",
        "plt.xlabel(\"# Epoc\")\n",
        "plt.ylabel(\"Magnitud de perdida\")\n",
        "plt.plot(historial.history[\"loss\"])"
      ],
      "metadata": {
        "colab": {
          "base_uri": "https://localhost:8080/",
          "height": 466
        },
        "id": "jzPJaOUnWR9r",
        "outputId": "51ef2ed1-f038-4b38-f20e-447b80f74cf4"
      },
      "execution_count": 18,
      "outputs": [
        {
          "output_type": "execute_result",
          "data": {
            "text/plain": [
              "[<matplotlib.lines.Line2D at 0x7fc4676929e0>]"
            ]
          },
          "metadata": {},
          "execution_count": 18
        },
        {
          "output_type": "display_data",
          "data": {
            "text/plain": [
              "<Figure size 640x480 with 1 Axes>"
            ],
            "image/png": "[encoded data removed]"
          },
          "metadata": {}
        }
      ]
    },
    {
      "cell_type": "code",
      "source": [
        "#Comprobar \n",
        "print(\"Hagamos una prediccion\")\n",
        "resultado=modelo.predict([16])\n",
        "print(\"El resultado en area es \" + str(resultado))"
      ],
      "metadata": {
        "colab": {
          "base_uri": "https://localhost:8080/"
        },
        "id": "h478mXo4WqTl",
        "outputId": "d5e7178b-0683-40e5-81bd-698ba6f19935"
      },
      "execution_count": 21,
      "outputs": [
        {
          "output_type": "stream",
          "name": "stdout",
          "text": [
            "Hagamos una prediccion\n",
            "1/1 [==============================] - 0s 44ms/step\n",
            "El resultado en area es [[61.487972]]\n"
          ]
        }
      ]
    }
  ]
}